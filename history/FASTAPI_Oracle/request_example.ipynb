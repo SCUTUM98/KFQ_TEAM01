{
 "cells": [
  {
   "cell_type": "code",
   "execution_count": 14,
   "metadata": {},
   "outputs": [
    {
     "name": "stdout",
     "output_type": "stream",
     "text": [
      "Success: {'message': 'Item added successfully'}\n"
     ]
    }
   ],
   "source": [
    "#PUT code for client\n",
    "import requests\n",
    "\n",
    "url = \"https://602b-61-255-134-194.ngrok-free.app/items\"  # FastAPI 서버의 URL로 변경해주세요\n",
    "\n",
    "data = {\n",
    "    \"camera_name\":\"EunhangIntersection\",\n",
    "    \"time\":\"1691753911921\",\n",
    "    \"xmin\": 4.3,\n",
    "    \"ymin\": 4.3,\n",
    "    \"xmax\": 4.3,\n",
    "    \"ymax\": 4.5,\n",
    "    \"confidence\": 4.5,\n",
    "    \"mclass\": 5,\n",
    "    \"name\": \"str\"\n",
    "}\n",
    "\n",
    "response = requests.post(url, json=data)\n",
    "\n",
    "if response.status_code == 200:\n",
    "    print(\"Success:\", response.json())\n",
    "else:\n",
    "    print(\"Error:\", response.status_code, response.text)\n"
   ]
  },
  {
   "cell_type": "code",
   "execution_count": null,
   "metadata": {},
   "outputs": [],
   "source": []
  }
 ],
 "metadata": {
  "kernelspec": {
   "display_name": "final",
   "language": "python",
   "name": "python3"
  },
  "language_info": {
   "codemirror_mode": {
    "name": "ipython",
    "version": 3
   },
   "file_extension": ".py",
   "mimetype": "text/x-python",
   "name": "python",
   "nbconvert_exporter": "python",
   "pygments_lexer": "ipython3",
   "version": "3.10.12"
  },
  "orig_nbformat": 4
 },
 "nbformat": 4,
 "nbformat_minor": 2
}
