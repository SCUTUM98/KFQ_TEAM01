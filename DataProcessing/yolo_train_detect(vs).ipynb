{
 "cells": [
  {
   "cell_type": "markdown",
   "metadata": {},
   "source": [
    "## Yolov5 Training & Detection code\n",
    "#### This code only works with Local Editor\n",
    "#### Code for Google Colab, Visit [here](https://github.com/SCUTUM98/KFQ_TEAM01/blob/main/DataProcessing/yolo_train_detect(colab).ipynb)."
   ]
  },
  {
   "cell_type": "code",
   "execution_count": null,
   "metadata": {},
   "outputs": [],
   "source": [
    "import subprocess\n",
    "import torch"
   ]
  },
  {
   "cell_type": "markdown",
   "metadata": {},
   "source": [
    "### Clone Yolov5 Git"
   ]
  },
  {
   "cell_type": "code",
   "execution_count": null,
   "metadata": {},
   "outputs": [],
   "source": [
    "command = 'git clone https://github.com/ultralytics/yolov5'\n",
    "\n",
    "subprocess.run(command, shell=True)"
   ]
  },
  {
   "cell_type": "code",
   "execution_count": null,
   "metadata": {},
   "outputs": [],
   "source": [
    "command = '!pip install -qr requirements.txt'\n",
    "\n",
    "subprocess.run(command, shell=True)"
   ]
  },
  {
   "cell_type": "code",
   "execution_count": null,
   "metadata": {},
   "outputs": [],
   "source": [
    "print('Setup complete. Using torch %s %s' % (torch.__version__, torch.cuda.get_device_properties(0) if torch.cuda.is_available() else 'CPU'))"
   ]
  },
  {
   "cell_type": "markdown",
   "metadata": {},
   "source": [
    "### Training"
   ]
  },
  {
   "cell_type": "code",
   "execution_count": null,
   "metadata": {},
   "outputs": [],
   "source": [
    "img = 640\n",
    "batch = 16\n",
    "epochs = 180\n",
    "data = 'path_of_your_dataset.yaml'\n",
    "cfg = 'path_of_your_pretrained_model.yaml'\n",
    "name = 'name_of_your_models'\n",
    "\n",
    "command = f'!python train.py --img {img} --batch {batch} --epochs {epochs} --data {data} --cfg {cfg} --weights \"\" --name {name} --cache'\n",
    "\n",
    "subprocess.run(command, shell=True)"
   ]
  },
  {
   "cell_type": "markdown",
   "metadata": {},
   "source": [
    "### Detection"
   ]
  },
  {
   "cell_type": "code",
   "execution_count": null,
   "metadata": {},
   "outputs": [],
   "source": [
    "img = 640\n",
    "conf = 0.5\n",
    "result = 'path_to_your_model_result_folder'\n",
    "source = 'path_to_your_test_image'\n",
    "\n",
    "command = f'!python detect.py --weights {result} --img {img} --conf {conf} --source {source}'\n",
    "\n",
    "subprocess.run(command, shell=True)"
   ]
  }
 ],
 "metadata": {
  "language_info": {
   "name": "python"
  },
  "orig_nbformat": 4
 },
 "nbformat": 4,
 "nbformat_minor": 2
}
