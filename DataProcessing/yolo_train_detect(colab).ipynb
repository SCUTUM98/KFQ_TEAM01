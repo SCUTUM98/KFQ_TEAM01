{
 "cells": [
  {
   "cell_type": "markdown",
   "metadata": {},
   "source": [
    "## Yolov5 Training & Detection code\n",
    "#### This code only works with Google Colab\n",
    "#### Code for Mac/Windows, Visit [here](https://github.com/SCUTUM98/KFQ_TEAM01/tree/main)."
   ]
  },
  {
   "cell_type": "code",
   "execution_count": null,
   "metadata": {},
   "outputs": [],
   "source": [
    "import torch\n",
    "from IPython.display import Image, clear_output\n",
    "from utils.downloads import attempt_download"
   ]
  },
  {
   "cell_type": "markdown",
   "metadata": {},
   "source": [
    "### Clone Yolov5 Git"
   ]
  },
  {
   "cell_type": "code",
   "execution_count": null,
   "metadata": {},
   "outputs": [],
   "source": [
    "!git clone https://github.com/ultralytics/yolov5\n",
    "%cd yolov5\n",
    "!git reset --hard fbe67e465375231474a2ad80a4389efc77ecff99"
   ]
  },
  {
   "cell_type": "code",
   "execution_count": null,
   "metadata": {},
   "outputs": [],
   "source": [
    "!pip install -qr requirements.txt"
   ]
  },
  {
   "cell_type": "code",
   "execution_count": null,
   "metadata": {},
   "outputs": [],
   "source": [
    "print('Setup complete. Using torch %s %s' % (torch.__version__, torch.cuda.get_device_properties(0) if torch.cuda.is_available() else 'CPU'))"
   ]
  },
  {
   "cell_type": "markdown",
   "metadata": {},
   "source": [
    "### Training"
   ]
  },
  {
   "cell_type": "code",
   "execution_count": null,
   "metadata": {},
   "outputs": [],
   "source": [
    "img = 640\n",
    "batch = 16\n",
    "epochs = 180\n",
    "data = 'path_of_your_dataset.yaml'\n",
    "cfg = 'path_of_your_pretrained_model.yaml'\n",
    "name = 'name_of_your_models'\n",
    "\n",
    "print(f'!python train.py --img {img} --batch {batch} --epochs {epochs} --data {data} --cfg {cfg} --weights \"\" --name {name} --cache')"
   ]
  },
  {
   "cell_type": "code",
   "execution_count": null,
   "metadata": {},
   "outputs": [],
   "source": [
    "! copy_your_training_code"
   ]
  },
  {
   "cell_type": "markdown",
   "metadata": {},
   "source": [
    "### Detection"
   ]
  },
  {
   "cell_type": "code",
   "execution_count": null,
   "metadata": {},
   "outputs": [],
   "source": [
    "img = 640\n",
    "conf = 0.5\n",
    "result = 'path_to_your_model_result_folder'\n",
    "source = 'path_to_your_test_image'\n",
    "\n",
    "print(f'!python detect.py --weights {result} --img {img} --conf {conf} --source {source}')"
   ]
  },
  {
   "cell_type": "code",
   "execution_count": null,
   "metadata": {},
   "outputs": [],
   "source": [
    "! copy_your_detection_code"
   ]
  }
 ],
 "metadata": {
  "language_info": {
   "name": "python"
  },
  "orig_nbformat": 4
 },
 "nbformat": 4,
 "nbformat_minor": 2
}
