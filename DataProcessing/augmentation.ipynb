{
 "cells": [
  {
   "cell_type": "code",
   "execution_count": 1,
   "metadata": {},
   "outputs": [],
   "source": [
    "import torchvision.transforms as transforms\n",
    "from torchvision.transforms import functional as F\n",
    "from PIL import Image\n",
    "import glob\n",
    "import os"
   ]
  },
  {
   "cell_type": "code",
   "execution_count": 2,
   "metadata": {},
   "outputs": [
    {
     "name": "stdout",
     "output_type": "stream",
     "text": [
      "['/Users/bongeungu/Downloads/drums/c04e116d5e6cfcf5a8ddf0cb5204465f.jpg', '/Users/bongeungu/Downloads/drums/e81acdab9434a9f88cd5cb444ceeb31a.jpg', '/Users/bongeungu/Downloads/drums/thumb-3066as7YSw320x320_320x320.jpg', '/Users/bongeungu/Downloads/drums/158c0ccefcba24ec60606104d50a83d9_t.jpg', '/Users/bongeungu/Downloads/drums/c5c986283049767e94fabc7c2e01ed44.jpg', '/Users/bongeungu/Downloads/drums/_fname=http%3A%2F%2Fshop1.daumcdn.net%2Fshophow%2Fp%2FN7115072830.jpg', '/Users/bongeungu/Downloads/drums/25f2c01061.jpg', '/Users/bongeungu/Downloads/drums/A2.jpg', '/Users/bongeungu/Downloads/drums/mt_30L_drumb_detail_01.jpg', '/Users/bongeungu/Downloads/drums/071a2dcfe550a0908eec5d06aca9ada3.jpg', '/Users/bongeungu/Downloads/drums/218203_65089_5013.jpg', '/Users/bongeungu/Downloads/drums/13823_shop1_368014.jpg', '/Users/bongeungu/Downloads/drums/1789_shop1_928973.jpg', '/Users/bongeungu/Downloads/drums/thumb4_1057932701.jpg', '/Users/bongeungu/Downloads/drums/226949007_1_1689772376_w360.jpg', '/Users/bongeungu/Downloads/drums/kr_1868319918_still_.jpg', '/Users/bongeungu/Downloads/drums/2c3d9e6343.jpg', '/Users/bongeungu/Downloads/drums/1653359067922cbe1e1e.jpg', '/Users/bongeungu/Downloads/drums/a7347491.jpg', '/Users/bongeungu/Downloads/drums/2277211585_large.jpg', '/Users/bongeungu/Downloads/drums/kr_data_item_.jpg', '/Users/bongeungu/Downloads/drums/%EC%8A%A4%ED%8B%B8%EB%93%9C%EB%9F%BC%EC%82%AC%EC%9D%B4%EC%A6%88%ED%91%9C.jpg', '/Users/bongeungu/Downloads/drums/1691748411213_000_ki16m_main.jpg', '/Users/bongeungu/Downloads/drums/6252426_1.jpg', '/Users/bongeungu/Downloads/drums/pd_kocim6vgl9fp.jpg', '/Users/bongeungu/Downloads/drums/7b3577e67dde0a31f775e4230351e9d9_t.jpg', '/Users/bongeungu/Downloads/drums/com_32_66_2016632_.jpg', '/Users/bongeungu/Downloads/drums/maxresdefault.jpg', '/Users/bongeungu/Downloads/drums/7302968440_l.jpg', '/Users/bongeungu/Downloads/drums/92483b7317ee0322f175f487b34b576d5352ce342b676ef3e704a17b4295.jpg', '/Users/bongeungu/Downloads/drums/5547-1-8805.jpg', '/Users/bongeungu/Downloads/drums/168_shop1_702221.jpg', '/Users/bongeungu/Downloads/drums/20200115_145738.jpg', '/Users/bongeungu/Downloads/drums/e1f77a206.jpg', '/Users/bongeungu/Downloads/drums/95607134_1_1547337344_w360.jpg', '/Users/bongeungu/Downloads/drums/9b359a45d5ba5bcb0bd472116db78711.jpg', '/Users/bongeungu/Downloads/drums/26e3ff43b621bfe8225fa0c853a989fe.jpg', '/Users/bongeungu/Downloads/drums/200%EB%A6%AC%ED%84%B0_%EA%B0%9C%EB%B0%A9%ED%98%95_%EC%A0%91%EC%B0%A9%EC%A0%9C%EC%9A%A9_GI_%EC%8A%A4%ED%8B%B8%EB%93%9C%EB%9F%BC%ED%86%B5.jpg', '/Users/bongeungu/Downloads/drums/net_cfile_blog_.jpg', '/Users/bongeungu/Downloads/drums/33086fce73847805d048d77857989209.jpg', '/Users/bongeungu/Downloads/drums/thumb4_1158333256.jpg', '/Users/bongeungu/Downloads/drums/img.jpg', '/Users/bongeungu/Downloads/drums/thumb_500_NS_20072249334.jpg', '/Users/bongeungu/Downloads/drums/41vysDJqUsS.jpg', '/Users/bongeungu/Downloads/drums/77427a799e3b4b4de19557493d9d344b.jpg', '/Users/bongeungu/Downloads/drums/dbf9a9155aabcf53894d239ea51cadd9.jpg', '/Users/bongeungu/Downloads/drums/d7093053ecf95df40ac13c68f7801c82.jpg', '/Users/bongeungu/Downloads/drums/fcf0a186f625df85b367ff009a59ab32.jpg', '/Users/bongeungu/Downloads/drums/b5a9aa719b0a46d21c0ad08f33b7579d.jpg', '/Users/bongeungu/Downloads/drums/9798b1b1071872e962ce56a94423c978.jpg', '/Users/bongeungu/Downloads/drums/4647656599_l.jpg', '/Users/bongeungu/Downloads/drums/1662342436020000nGu_SvgG0.jpg', '/Users/bongeungu/Downloads/drums/199889fb237d8b32bbb187e56643d6d7.jpg', '/Users/bongeungu/Downloads/drums/1618883503279y0.jpg', '/Users/bongeungu/Downloads/drums/com_data_item_201709_.jpg', '/Users/bongeungu/Downloads/drums/%EC%97%94%EC%A7%84%EC%98%A4%EC%9D%BC-%EB%B0%B0%EB%9F%B4-%ED%9D%B0%EC%83%89-%EB%B0%94%ED%83%95%EC%97%90-%ED%9D%B0%EC%83%89-%EB%B0%B0%EA%B2%BD-%EA%B2%80%EC%9D%80%EC%83%89%EA%B3%BC-%EA%B3%A8%EB%93%9C-%EC%BB%AC%EB%9F%AC.jpg', '/Users/bongeungu/Downloads/drums/8688675d95ebcb7f401fa62da1c12f52867a2a3a285f9fbd935e37df28525fb9.jpg', '/Users/bongeungu/Downloads/drums/jpg_dims_resizef_.jpg', '/Users/bongeungu/Downloads/drums/YAJNsyveCpYPCj561TyY-hrhFLBcHdG8KykHxKCMy9Fa1eEEJ9oKIwUvoMkVZ3JBC-NIrFD_zKB9_xuYL64b8w.jpg', '/Users/bongeungu/Downloads/drums/net_original_.jpg', '/Users/bongeungu/Downloads/drums/159027713_1_1685220921_w360.jpg', '/Users/bongeungu/Downloads/drums/0d71dcddccb0b66c1b1711a1f88c676b.jpg', '/Users/bongeungu/Downloads/drums/LO1818444522_1818444523_1.jpg', '/Users/bongeungu/Downloads/drums/pd_syonxl6qgqkg.jpg', '/Users/bongeungu/Downloads/drums/05a5963106ea741ae2d00e4cac98c9af_t.jpg', '/Users/bongeungu/Downloads/drums/2106dd0d71.jpg', '/Users/bongeungu/Downloads/drums/20181128_110858.jpg', '/Users/bongeungu/Downloads/drums/jgdnw_5185.jpg', '/Users/bongeungu/Downloads/drums/20431M.jpg', '/Users/bongeungu/Downloads/drums/8633_3938_120.jpg', '/Users/bongeungu/Downloads/drums/161890166050y0.jpg', '/Users/bongeungu/Downloads/drums/%EB%B8%94%EB%A3%A8-%ED%86%B5-%EC%98%A4%EC%9D%BC-%EC%97%B0%EB%A3%8C-%ED%83%B1%ED%81%AC-%EC%95%84%EC%8A%A4%ED%8C%94%ED%8A%B8-%EC%88%98%EA%B1%B0%EC%9A%A9%EA%B8%B0-%EB%93%9C%EB%9F%BC%EB%B3%B4%EB%8B%A4.jpg', '/Users/bongeungu/Downloads/drums/pd_9extijgsstio.jpg', '/Users/bongeungu/Downloads/drums/3fbcaf91d735792169f23fbbed624302.jpg', '/Users/bongeungu/Downloads/drums/p179523997142714_719.jpg', '/Users/bongeungu/Downloads/drums/6672038194_l.jpg', '/Users/bongeungu/Downloads/drums/182999428_1_1665485504_w360.jpg', '/Users/bongeungu/Downloads/drums/PS19123000957.jpg', '/Users/bongeungu/Downloads/drums/2445beccb6.jpg', '/Users/bongeungu/Downloads/drums/81765fd99d188eeff98799b574306519.jpg', '/Users/bongeungu/Downloads/drums/d7fc83df111ba318f3baa3c417ded321.jpg', '/Users/bongeungu/Downloads/drums/0796e9440d0e3fa329be0eebfedb6f7b.jpg', '/Users/bongeungu/Downloads/drums/42cdc27b5cc0e0beca73e0be1e3dd2046b6188f77d1c07ff1f87cf6c69eb.jpg', '/Users/bongeungu/Downloads/drums/216_temp_16451612004457view.jpg', '/Users/bongeungu/Downloads/drums/59edd9484185e2c0bb26c2dd2cf54d31_t.jpg', '/Users/bongeungu/Downloads/drums/d0ccc199-9c42-4fe6-86d3-a33e76805ba4.jpg', '/Users/bongeungu/Downloads/drums/thumb-65Oc658_174x174.jpg', '/Users/bongeungu/Downloads/drums/1689733158297_000_brQqu_main.jpg', '/Users/bongeungu/Downloads/drums/XNz0QQNeaQNHZ3GpshGDHeo0esI.jpg', '/Users/bongeungu/Downloads/drums/5be036ea00a8b2c529ceddfeebb12389.jpg', '/Users/bongeungu/Downloads/drums/27481f3b51.jpg', '/Users/bongeungu/Downloads/drums/thumb4_1165578157.jpg', '/Users/bongeungu/Downloads/drums/20230615503030.jpg', '/Users/bongeungu/Downloads/drums/news-p.v1.20220706.bb77b41d5b494c4ca2c4ae770d50f234_P1.jpg', '/Users/bongeungu/Downloads/drums/05ebc81e6bc38ea7e4e638f859ec71f7c30015502f79f3fd9676d19f190f.jpg', '/Users/bongeungu/Downloads/drums/82894_48855_4613.jpg', '/Users/bongeungu/Downloads/drums/B.jpg', '/Users/bongeungu/Downloads/drums/2019123033455576.jpg', '/Users/bongeungu/Downloads/drums/99b983892094b5c6d2fc3736e15da7d1.jpg', '/Users/bongeungu/Downloads/drums/e6783ea3c6ec788616e5e7c028fb037b.jpg', '/Users/bongeungu/Downloads/drums/t50_101838_magnify_261.jpg', '/Users/bongeungu/Downloads/drums/DRPACK_%ED%8F%AD%EB%B0%9C%EB%B0%A9%EC%A7%80%EB%93%9C%EB%9F%BC%ED%86%B51.jpg', '/Users/bongeungu/Downloads/drums/741829282_pUFeVsMN_KakaoTalk_20180829_112306478.jpg', '/Users/bongeungu/Downloads/drums/b071107657ff7f773d9740fd0f77aa56.jpg', '/Users/bongeungu/Downloads/drums/bf70d97ae430e3a5a64237a308da17f0.jpg', '/Users/bongeungu/Downloads/drums/8797313975_l.jpg', '/Users/bongeungu/Downloads/drums/0100040000153.jpg', '/Users/bongeungu/Downloads/drums/282b6585cce6328f2e81ac02fde693d2.jpg', '/Users/bongeungu/Downloads/drums/0050020003063.jpg', '/Users/bongeungu/Downloads/drums/_fname=http%3A%2F%2Fshop2.daumcdn.net%2Fshophow%2Fp%2FL23179633645.jpg', '/Users/bongeungu/Downloads/drums/2021041814190061904_l.jpg', '/Users/bongeungu/Downloads/drums/thumb-65Oc6587Ya1300300_320x320.jpg', '/Users/bongeungu/Downloads/drums/7488148005_l.jpg', '/Users/bongeungu/Downloads/drums/product02_1.jpg', '/Users/bongeungu/Downloads/drums/84c4c278d32cbd35dae0eb58104e2480.jpg', '/Users/bongeungu/Downloads/drums/720311abd27721811f0d92aef4ae693f.jpg', '/Users/bongeungu/Downloads/drums/237_temp_16451598353329view.jpg', '/Users/bongeungu/Downloads/drums/347ca190dda7bd125b1e4f7c86c5c951.jpg']\n"
     ]
    }
   ],
   "source": [
    "folder_path = '/Users/bongeungu/Downloads/drums'\n",
    "files = glob.glob(os.path.join(folder_path, '*.jpg'))\n",
    "print(files)"
   ]
  },
  {
   "cell_type": "code",
   "execution_count": 3,
   "metadata": {},
   "outputs": [],
   "source": [
    "for i in range(len(files)):\n",
    "    image = Image.open(files[i])\n",
    "    file_name = files[i].split('/')\n",
    "    file_name = file_name[5].split('.')\n",
    "    file_name = file_name[0]\n",
    "    \n",
    "    if image.mode != 'RGB':\n",
    "        image = image.convert('RGB')\n",
    "    \n",
    "    transform = transforms.Compose([\n",
    "        transforms.RandomHorizontalFlip(p=0.5),\n",
    "        transforms.ColorJitter(brightness=0.5, contrast=0.5, saturation=0.5, hue=0.5),\n",
    "        transforms.RandomResizedCrop(size=(224, 224), scale=(0.8, 1.0), ratio=(0.75, 1.3333333333333333), interpolation=2),\n",
    "    ])\n",
    "    \n",
    "    augmented_image = transform(image)\n",
    "    rotation_image = image.rotate(90)\n",
    "    rotation_augmented_image = transform(rotation_image)\n",
    "    \n",
    "    augmented_image.save(f'/Users/bongeungu/Downloads/drums/{file_name}(1).jpg', 'jpeg')\n",
    "    rotation_image.save(f'/Users/bongeungu/Downloads/drums/{file_name}(2).jpg', 'jpeg')\n",
    "    rotation_augmented_image.save(f'/Users/bongeungu/Downloads/drums/{file_name}(3).jpg', 'jpeg')"
   ]
  },
  {
   "cell_type": "code",
   "execution_count": null,
   "metadata": {},
   "outputs": [],
   "source": []
  }
 ],
 "metadata": {
  "kernelspec": {
   "display_name": "Python 3",
   "language": "python",
   "name": "python3"
  },
  "language_info": {
   "codemirror_mode": {
    "name": "ipython",
    "version": 3
   },
   "file_extension": ".py",
   "mimetype": "text/x-python",
   "name": "python",
   "nbconvert_exporter": "python",
   "pygments_lexer": "ipython3",
   "version": "3.11.4"
  },
  "orig_nbformat": 4
 },
 "nbformat": 4,
 "nbformat_minor": 2
}
