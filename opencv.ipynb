{
 "cells": [
  {
   "cell_type": "code",
   "execution_count": 1,
   "metadata": {},
   "outputs": [],
   "source": [
    "import cv2\n",
    "import os\n",
    "import time"
   ]
  },
  {
   "cell_type": "code",
   "execution_count": 2,
   "metadata": {},
   "outputs": [
    {
     "name": "stdout",
     "output_type": "stream",
     "text": [
      "4.8.0\n"
     ]
    }
   ],
   "source": [
    "print(cv2.__version__)"
   ]
  },
  {
   "cell_type": "code",
   "execution_count": 3,
   "metadata": {},
   "outputs": [
    {
     "name": "stdout",
     "output_type": "stream",
     "text": [
      "opencv_image/image_0.jpg 저장 완료.\n",
      "opencv_image/image_1.jpg 저장 완료.\n",
      "opencv_image/image_2.jpg 저장 완료.\n",
      "opencv_image/image_3.jpg 저장 완료.\n",
      "opencv_image/image_4.jpg 저장 완료.\n",
      "opencv_image/image_5.jpg 저장 완료.\n",
      "opencv_image/image_6.jpg 저장 완료.\n",
      "opencv_image/image_7.jpg 저장 완료.\n",
      "opencv_image/image_8.jpg 저장 완료.\n",
      "opencv_image/image_9.jpg 저장 완료.\n",
      "opencv_image/image_10.jpg 저장 완료.\n",
      "opencv_image/image_11.jpg 저장 완료.\n",
      "opencv_image/image_12.jpg 저장 완료.\n",
      "opencv_image/image_13.jpg 저장 완료.\n",
      "사용자에 의해 종료됨.\n"
     ]
    }
   ],
   "source": [
    "def capture_and_save_image(output_dir):\n",
    "    # 웹캠 열기\n",
    "    cap = cv2.VideoCapture(0)\n",
    "\n",
    "    if not cap.isOpened():\n",
    "        print(\"웹캠을 열 수 없습니다.\")\n",
    "        return\n",
    "\n",
    "    # 저장할 디렉토리 생성\n",
    "    if not os.path.exists(output_dir):\n",
    "        os.makedirs(output_dir)\n",
    "\n",
    "    try:\n",
    "        count = 0\n",
    "        while True:\n",
    "            # 프레임 읽기\n",
    "            ret, frame = cap.read()\n",
    "            if not ret:\n",
    "                print(\"프레임을 읽을 수 없습니다.\")\n",
    "                break\n",
    "\n",
    "            # 1초마다 이미지 저장\n",
    "            if count % 30 == 0:\n",
    "                image_file = os.path.join(output_dir, f\"image_{count//30}.jpg\")\n",
    "                cv2.imwrite(image_file, frame)\n",
    "                print(f\"{image_file} 저장 완료.\")\n",
    "\n",
    "            count += 1\n",
    "\n",
    "            # 'q' 키를 누르면 종료\n",
    "            if cv2.waitKey(1) & 0xFF == ord('q'):\n",
    "                break\n",
    "\n",
    "    except KeyboardInterrupt:\n",
    "        print(\"사용자에 의해 종료됨.\")\n",
    "\n",
    "    # 웹캠 닫기\n",
    "    cap.release()\n",
    "    cv2.destroyAllWindows()\n",
    "\n",
    "if __name__ == \"__main__\":\n",
    "    output_directory = \"opencv_image\"\n",
    "    capture_and_save_image(output_directory)\n"
   ]
  },
  {
   "cell_type": "code",
   "execution_count": null,
   "metadata": {},
   "outputs": [],
   "source": []
  }
 ],
 "metadata": {
  "kernelspec": {
   "display_name": "Python 3",
   "language": "python",
   "name": "python3"
  },
  "language_info": {
   "codemirror_mode": {
    "name": "ipython",
    "version": 3
   },
   "file_extension": ".py",
   "mimetype": "text/x-python",
   "name": "python",
   "nbconvert_exporter": "python",
   "pygments_lexer": "ipython3",
   "version": "3.9.7"
  },
  "orig_nbformat": 4
 },
 "nbformat": 4,
 "nbformat_minor": 2
}
