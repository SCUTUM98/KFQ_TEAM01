{
 "cells": [
  {
   "cell_type": "code",
   "execution_count": 1,
   "metadata": {},
   "outputs": [
    {
     "name": "stdout",
     "output_type": "stream",
     "text": [
      "Success: {}\n"
     ]
    }
   ],
   "source": [
    "#PUT code for client\n",
    "import requests\n",
    "\n",
    "url = \"https://22e9-61-255-134-194.ngrok-free.app/user/signup\"  # FastAPI 서버의 URL로 변경해주세요\n",
    "\n",
    "data = {\n",
    "    \"cctv_id\":\"180425\",\n",
    "    \"event_item\":'animal',\n",
    "    \"event_time\":'2023-08-18 14:16',\n",
    "    \"event_type\":\"A05\",\n",
    "    \"event_description\":\"NaN\"\n",
    "}\n",
    "\n",
    "headers = {\n",
    "    \"Content-Type\": \"application/json\"  # Specify the content type\n",
    "}\n",
    "\n",
    "response = requests.post(url, json=data, headers=headers)\n",
    "\n",
    "if response.status_code == 200:\n",
    "    print(\"Success:\", response.json())\n",
    "else:\n",
    "    print(\"Error:\", response.status_code, response.text)\n"
   ]
  },
  {
   "cell_type": "code",
   "execution_count": null,
   "metadata": {},
   "outputs": [],
   "source": []
  }
 ],
 "metadata": {
  "kernelspec": {
   "display_name": "final",
   "language": "python",
   "name": "python3"
  },
  "language_info": {
   "codemirror_mode": {
    "name": "ipython",
    "version": 3
   },
   "file_extension": ".py",
   "mimetype": "text/x-python",
   "name": "python",
   "nbconvert_exporter": "python",
   "pygments_lexer": "ipython3",
   "version": "3.11.4"
  },
  "orig_nbformat": 4
 },
 "nbformat": 4,
 "nbformat_minor": 2
}
