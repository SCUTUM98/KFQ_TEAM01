{
 "cells": [
  {
   "cell_type": "markdown",
   "metadata": {},
   "source": [
    "### 각 파트에서 보내주는 데이터 형식 정리"
   ]
  },
  {
   "cell_type": "code",
   "execution_count": 1,
   "metadata": {},
   "outputs": [],
   "source": [
    "logictodb={\n",
    "    'loc':'대야사거리',\n",
    "    'event':'교통사고',\n",
    "    'car1':{'xmin':1, 'xmax':2},\n",
    "    'car2':{'xmin':3, 'xmax':4},\n",
    "    'truck':{'xmin':34, 'xmax':40},\n",
    "    'time':000000,\n",
    "    'time_categeory':'night'\n",
    "}"
   ]
  },
  {
   "cell_type": "code",
   "execution_count": 2,
   "metadata": {},
   "outputs": [],
   "source": [
    "dbtouser={\n",
    "    '대야사거리':{\n",
    "           '교통사고':{\n",
    "                'event':'교통사고',\n",
    "                'car1':{'xmin':1, 'xmax':2},\n",
    "                'car2':{'xmin':3, 'xmax':4},\n",
    "                'time':000000\n",
    "                        },\n",
    "            '야생 동물':{\n",
    "                'event':'동물 출현',\n",
    "                'car1':{'xmin':1, 'xmax':2},\n",
    "                'car2':{'xmin':3, 'xmax':4},\n",
    "                'time':000000\n",
    "                        }\n",
    "                 }\n",
    "}"
   ]
  }
 ],
 "metadata": {
  "kernelspec": {
   "display_name": "final",
   "language": "python",
   "name": "python3"
  },
  "language_info": {
   "codemirror_mode": {
    "name": "ipython",
    "version": 3
   },
   "file_extension": ".py",
   "mimetype": "text/x-python",
   "name": "python",
   "nbconvert_exporter": "python",
   "pygments_lexer": "ipython3",
   "version": "3.11.4"
  },
  "orig_nbformat": 4
 },
 "nbformat": 4,
 "nbformat_minor": 2
}
