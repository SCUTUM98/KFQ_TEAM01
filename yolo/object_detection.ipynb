{
 "cells": [
  {
   "cell_type": "code",
   "execution_count": 9,
   "metadata": {},
   "outputs": [],
   "source": [
    "import torch\n",
    "import os\n",
    "import glob\n",
    "import pandas as pd\n",
    "import datetime\n",
    "import requests\n",
    "from detection import category\n",
    "import private"
   ]
  },
  {
   "cell_type": "code",
   "execution_count": 3,
   "metadata": {},
   "outputs": [
    {
     "name": "stdout",
     "output_type": "stream",
     "text": [
      "<class 'list'>\n"
     ]
    }
   ],
   "source": [
    "checkpoints = ['yolov5m', 'yolov5x6']\n",
    "print(type(checkpoints))"
   ]
  },
  {
   "cell_type": "code",
   "execution_count": 4,
   "metadata": {},
   "outputs": [],
   "source": [
    "folder_path = 'data/'\n",
    "image_files = glob.glob(os.path.join(folder_path, '*.png'))"
   ]
  },
  {
   "cell_type": "code",
   "execution_count": 10,
   "metadata": {},
   "outputs": [
    {
     "name": "stderr",
     "output_type": "stream",
     "text": [
      "Using cache found in /Users/bongeungu/.cache/torch/hub/ultralytics_yolov5_master\n",
      "YOLOv5 🚀 2023-8-5 Python-3.11.4 torch-2.0.1 CPU\n",
      "\n",
      "Fusing layers... \n",
      "YOLOv5m summary: 290 layers, 21172173 parameters, 0 gradients\n",
      "Adding AutoShape... \n"
     ]
    },
    {
     "name": "stdout",
     "output_type": "stream",
     "text": [
      "Image 'data/Je1sunhwan_soraetunnel_night.png' was last modified at: 2023-08-11 13:08:09\n",
      "Image 'data/EunhangIntersection_night.png' was last modified at: 2023-08-11 13:08:09\n",
      "Image 'data/DaeyaIntersection_daytime.png' was last modified at: 2023-08-11 13:08:09\n",
      "Image 'data/Je1sunhwan_soraetunnel_daytime.png' was last modified at: 2023-08-11 13:08:09\n",
      "Image 'data/SincheonIntersection_night.png' was last modified at: 2023-08-11 13:08:09\n",
      "Image 'data/DaeyaIntersection_night.png' was last modified at: 2023-08-11 13:08:09\n",
      "Image 'data/test.png' was last modified at: 2023-08-11 11:20:21\n",
      "{'camera_name': 'test', 'time': '2023-08-11 11:20:21', 'type_class': 0, 'name': 'person', 'action': 'person detected'}\n"
     ]
    },
    {
     "name": "stderr",
     "output_type": "stream",
     "text": [
      "/Users/bongeungu/Desktop/kfq/KFQ_TEAM01/yolo/detection.py:5: SettingWithCopyWarning: \n",
      "A value is trying to be set on a copy of a slice from a DataFrame\n",
      "\n",
      "See the caveats in the documentation: https://pandas.pydata.org/pandas-docs/stable/user_guide/indexing.html#returning-a-view-versus-a-copy\n",
      "  object_coords['action'][i] = 'person detected'\n"
     ]
    },
    {
     "name": "stdout",
     "output_type": "stream",
     "text": [
      "Success: {'message': 'Item added successfully'}\n",
      "{'camera_name': 'test', 'time': '2023-08-11 11:20:21', 'type_class': 2, 'name': 'car', 'action': 'NaN'}\n",
      "Success: {'message': 'Item added successfully'}\n",
      "{'camera_name': 'test', 'time': '2023-08-11 11:20:21', 'type_class': 2, 'name': 'car', 'action': 'NaN'}\n",
      "Success: {'message': 'Item added successfully'}\n",
      "{'camera_name': 'test', 'time': '2023-08-11 11:20:21', 'type_class': 2, 'name': 'car', 'action': 'NaN'}\n",
      "Success: {'message': 'Item added successfully'}\n",
      "{'camera_name': 'test', 'time': '2023-08-11 11:20:21', 'type_class': 2, 'name': 'car', 'action': 'NaN'}\n",
      "Success: {'message': 'Item added successfully'}\n",
      "{'camera_name': 'test', 'time': '2023-08-11 11:20:21', 'type_class': 2, 'name': 'car', 'action': 'NaN'}\n",
      "Success: {'message': 'Item added successfully'}\n",
      "{'camera_name': 'test', 'time': '2023-08-11 11:20:21', 'type_class': 2, 'name': 'car', 'action': 'NaN'}\n",
      "Success: {'message': 'Item added successfully'}\n",
      "{'camera_name': 'test', 'time': '2023-08-11 11:20:21', 'type_class': 2, 'name': 'car', 'action': 'NaN'}\n",
      "Success: {'message': 'Item added successfully'}\n",
      "{'camera_name': 'test', 'time': '2023-08-11 11:20:21', 'type_class': 7, 'name': 'truck', 'action': 'NaN'}\n",
      "Success: {'message': 'Item added successfully'}\n",
      "{'camera_name': 'test', 'time': '2023-08-11 11:20:21', 'type_class': 2, 'name': 'car', 'action': 'NaN'}\n",
      "Success: {'message': 'Item added successfully'}\n",
      "{'camera_name': 'test', 'time': '2023-08-11 11:20:21', 'type_class': 2, 'name': 'car', 'action': 'NaN'}\n",
      "Success: {'message': 'Item added successfully'}\n",
      "{'camera_name': 'test', 'time': '2023-08-11 11:20:21', 'type_class': 2, 'name': 'car', 'action': 'NaN'}\n",
      "Success: {'message': 'Item added successfully'}\n",
      "{'camera_name': 'test', 'time': '2023-08-11 11:20:21', 'type_class': 7, 'name': 'truck', 'action': 'NaN'}\n",
      "Success: {'message': 'Item added successfully'}\n",
      "{'camera_name': 'test', 'time': '2023-08-11 11:20:21', 'type_class': 2, 'name': 'car', 'action': 'NaN'}\n",
      "Success: {'message': 'Item added successfully'}\n",
      "Image 'data/Je1sunhwan_incheongrandpark_daytime.png' was last modified at: 2023-08-11 13:08:09\n",
      "Image 'data/WolgotIC_night.png' was last modified at: 2023-08-11 13:08:09\n",
      "Image 'data/EunhangIntersection_daytime.png' was last modified at: 2023-08-11 13:08:09\n",
      "Image 'data/SincheonIntersection_daytime.png' was last modified at: 2023-08-11 13:08:09\n",
      "Image 'data/WolgotIC_daytime.png' was last modified at: 2023-08-11 13:08:09\n"
     ]
    },
    {
     "name": "stderr",
     "output_type": "stream",
     "text": [
      "Using cache found in /Users/bongeungu/.cache/torch/hub/ultralytics_yolov5_master\n",
      "YOLOv5 🚀 2023-8-5 Python-3.11.4 torch-2.0.1 CPU\n",
      "\n"
     ]
    },
    {
     "name": "stdout",
     "output_type": "stream",
     "text": [
      "Image 'data/Je1sunhwan_incheongrandpark_night.png' was last modified at: 2023-08-11 13:08:09\n"
     ]
    },
    {
     "name": "stderr",
     "output_type": "stream",
     "text": [
      "Fusing layers... \n",
      "YOLOv5x6 summary: 574 layers, 140730220 parameters, 0 gradients\n",
      "Adding AutoShape... \n"
     ]
    },
    {
     "name": "stdout",
     "output_type": "stream",
     "text": [
      "Image 'data/Je1sunhwan_soraetunnel_night.png' was last modified at: 2023-08-11 13:08:09\n",
      "Image 'data/EunhangIntersection_night.png' was last modified at: 2023-08-11 13:08:09\n",
      "{'camera_name': 'EunhangIntersection', 'time': '2023-08-11 13:08:09', 'type_class': 5, 'name': 'bus', 'action': 'NaN'}\n"
     ]
    },
    {
     "name": "stderr",
     "output_type": "stream",
     "text": [
      "/Users/bongeungu/Desktop/kfq/KFQ_TEAM01/yolo/detection.py:5: SettingWithCopyWarning: \n",
      "A value is trying to be set on a copy of a slice from a DataFrame\n",
      "\n",
      "See the caveats in the documentation: https://pandas.pydata.org/pandas-docs/stable/user_guide/indexing.html#returning-a-view-versus-a-copy\n",
      "  object_coords['action'][i] = 'person detected'\n",
      "/Users/bongeungu/Desktop/kfq/KFQ_TEAM01/yolo/detection.py:5: SettingWithCopyWarning: \n",
      "A value is trying to be set on a copy of a slice from a DataFrame\n",
      "\n",
      "See the caveats in the documentation: https://pandas.pydata.org/pandas-docs/stable/user_guide/indexing.html#returning-a-view-versus-a-copy\n",
      "  object_coords['action'][i] = 'person detected'\n"
     ]
    },
    {
     "name": "stdout",
     "output_type": "stream",
     "text": [
      "Success: {'message': 'Item added successfully'}\n",
      "{'camera_name': 'EunhangIntersection', 'time': '2023-08-11 13:08:09', 'type_class': 2, 'name': 'car', 'action': 'NaN'}\n",
      "Success: {'message': 'Item added successfully'}\n",
      "{'camera_name': 'EunhangIntersection', 'time': '2023-08-11 13:08:09', 'type_class': 2, 'name': 'car', 'action': 'NaN'}\n",
      "Success: {'message': 'Item added successfully'}\n",
      "{'camera_name': 'EunhangIntersection', 'time': '2023-08-11 13:08:09', 'type_class': 2, 'name': 'car', 'action': 'NaN'}\n",
      "Success: {'message': 'Item added successfully'}\n",
      "{'camera_name': 'EunhangIntersection', 'time': '2023-08-11 13:08:09', 'type_class': 2, 'name': 'car', 'action': 'NaN'}\n",
      "Success: {'message': 'Item added successfully'}\n",
      "{'camera_name': 'EunhangIntersection', 'time': '2023-08-11 13:08:09', 'type_class': 2, 'name': 'car', 'action': 'NaN'}\n",
      "Success: {'message': 'Item added successfully'}\n",
      "{'camera_name': 'EunhangIntersection', 'time': '2023-08-11 13:08:09', 'type_class': 9, 'name': 'traffic light', 'action': 'NaN'}\n",
      "Success: {'message': 'Item added successfully'}\n",
      "{'camera_name': 'EunhangIntersection', 'time': '2023-08-11 13:08:09', 'type_class': 0, 'name': 'person', 'action': 'person detected'}\n",
      "Success: {'message': 'Item added successfully'}\n",
      "{'camera_name': 'EunhangIntersection', 'time': '2023-08-11 13:08:09', 'type_class': 9, 'name': 'traffic light', 'action': 'NaN'}\n",
      "Success: {'message': 'Item added successfully'}\n",
      "{'camera_name': 'EunhangIntersection', 'time': '2023-08-11 13:08:09', 'type_class': 2, 'name': 'car', 'action': 'NaN'}\n",
      "Success: {'message': 'Item added successfully'}\n",
      "{'camera_name': 'EunhangIntersection', 'time': '2023-08-11 13:08:09', 'type_class': 2, 'name': 'car', 'action': 'NaN'}\n",
      "Success: {'message': 'Item added successfully'}\n",
      "{'camera_name': 'EunhangIntersection', 'time': '2023-08-11 13:08:09', 'type_class': 9, 'name': 'traffic light', 'action': 'NaN'}\n",
      "Success: {'message': 'Item added successfully'}\n",
      "{'camera_name': 'EunhangIntersection', 'time': '2023-08-11 13:08:09', 'type_class': 0, 'name': 'person', 'action': 'person detected'}\n",
      "Success: {'message': 'Item added successfully'}\n",
      "{'camera_name': 'EunhangIntersection', 'time': '2023-08-11 13:08:09', 'type_class': 9, 'name': 'traffic light', 'action': 'NaN'}\n",
      "Success: {'message': 'Item added successfully'}\n",
      "{'camera_name': 'EunhangIntersection', 'time': '2023-08-11 13:08:09', 'type_class': 5, 'name': 'bus', 'action': 'NaN'}\n",
      "Success: {'message': 'Item added successfully'}\n",
      "{'camera_name': 'EunhangIntersection', 'time': '2023-08-11 13:08:09', 'type_class': 2, 'name': 'car', 'action': 'NaN'}\n",
      "Success: {'message': 'Item added successfully'}\n",
      "{'camera_name': 'EunhangIntersection', 'time': '2023-08-11 13:08:09', 'type_class': 2, 'name': 'car', 'action': 'NaN'}\n",
      "Success: {'message': 'Item added successfully'}\n",
      "{'camera_name': 'EunhangIntersection', 'time': '2023-08-11 13:08:09', 'type_class': 2, 'name': 'car', 'action': 'NaN'}\n",
      "Success: {'message': 'Item added successfully'}\n",
      "{'camera_name': 'EunhangIntersection', 'time': '2023-08-11 13:08:09', 'type_class': 2, 'name': 'car', 'action': 'NaN'}\n",
      "Success: {'message': 'Item added successfully'}\n",
      "{'camera_name': 'EunhangIntersection', 'time': '2023-08-11 13:08:09', 'type_class': 2, 'name': 'car', 'action': 'NaN'}\n",
      "Success: {'message': 'Item added successfully'}\n",
      "{'camera_name': 'EunhangIntersection', 'time': '2023-08-11 13:08:09', 'type_class': 9, 'name': 'traffic light', 'action': 'NaN'}\n",
      "Success: {'message': 'Item added successfully'}\n",
      "{'camera_name': 'EunhangIntersection', 'time': '2023-08-11 13:08:09', 'type_class': 0, 'name': 'person', 'action': 'person detected'}\n",
      "Success: {'message': 'Item added successfully'}\n",
      "{'camera_name': 'EunhangIntersection', 'time': '2023-08-11 13:08:09', 'type_class': 9, 'name': 'traffic light', 'action': 'NaN'}\n",
      "Success: {'message': 'Item added successfully'}\n",
      "{'camera_name': 'EunhangIntersection', 'time': '2023-08-11 13:08:09', 'type_class': 2, 'name': 'car', 'action': 'NaN'}\n",
      "Success: {'message': 'Item added successfully'}\n",
      "{'camera_name': 'EunhangIntersection', 'time': '2023-08-11 13:08:09', 'type_class': 2, 'name': 'car', 'action': 'NaN'}\n",
      "Success: {'message': 'Item added successfully'}\n",
      "{'camera_name': 'EunhangIntersection', 'time': '2023-08-11 13:08:09', 'type_class': 9, 'name': 'traffic light', 'action': 'NaN'}\n",
      "Success: {'message': 'Item added successfully'}\n",
      "{'camera_name': 'EunhangIntersection', 'time': '2023-08-11 13:08:09', 'type_class': 0, 'name': 'person', 'action': 'person detected'}\n",
      "Success: {'message': 'Item added successfully'}\n",
      "{'camera_name': 'EunhangIntersection', 'time': '2023-08-11 13:08:09', 'type_class': 9, 'name': 'traffic light', 'action': 'NaN'}\n",
      "Success: {'message': 'Item added successfully'}\n",
      "Image 'data/DaeyaIntersection_daytime.png' was last modified at: 2023-08-11 13:08:09\n",
      "Image 'data/Je1sunhwan_soraetunnel_daytime.png' was last modified at: 2023-08-11 13:08:09\n",
      "Image 'data/SincheonIntersection_night.png' was last modified at: 2023-08-11 13:08:09\n",
      "Image 'data/DaeyaIntersection_night.png' was last modified at: 2023-08-11 13:08:09\n",
      "Image 'data/test.png' was last modified at: 2023-08-11 11:20:21\n",
      "{'camera_name': 'test', 'time': '2023-08-11 11:20:21', 'type_class': 0, 'name': 'person', 'action': 'person detected'}\n"
     ]
    },
    {
     "name": "stderr",
     "output_type": "stream",
     "text": [
      "/Users/bongeungu/Desktop/kfq/KFQ_TEAM01/yolo/detection.py:5: SettingWithCopyWarning: \n",
      "A value is trying to be set on a copy of a slice from a DataFrame\n",
      "\n",
      "See the caveats in the documentation: https://pandas.pydata.org/pandas-docs/stable/user_guide/indexing.html#returning-a-view-versus-a-copy\n",
      "  object_coords['action'][i] = 'person detected'\n",
      "/Users/bongeungu/Desktop/kfq/KFQ_TEAM01/yolo/detection.py:5: SettingWithCopyWarning: \n",
      "A value is trying to be set on a copy of a slice from a DataFrame\n",
      "\n",
      "See the caveats in the documentation: https://pandas.pydata.org/pandas-docs/stable/user_guide/indexing.html#returning-a-view-versus-a-copy\n",
      "  object_coords['action'][i] = 'person detected'\n"
     ]
    },
    {
     "name": "stdout",
     "output_type": "stream",
     "text": [
      "Success: {'message': 'Item added successfully'}\n",
      "{'camera_name': 'test', 'time': '2023-08-11 11:20:21', 'type_class': 2, 'name': 'car', 'action': 'NaN'}\n",
      "Success: {'message': 'Item added successfully'}\n",
      "{'camera_name': 'test', 'time': '2023-08-11 11:20:21', 'type_class': 2, 'name': 'car', 'action': 'NaN'}\n",
      "Success: {'message': 'Item added successfully'}\n",
      "{'camera_name': 'test', 'time': '2023-08-11 11:20:21', 'type_class': 7, 'name': 'truck', 'action': 'NaN'}\n",
      "Success: {'message': 'Item added successfully'}\n",
      "{'camera_name': 'test', 'time': '2023-08-11 11:20:21', 'type_class': 2, 'name': 'car', 'action': 'NaN'}\n",
      "Success: {'message': 'Item added successfully'}\n",
      "{'camera_name': 'test', 'time': '2023-08-11 11:20:21', 'type_class': 2, 'name': 'car', 'action': 'NaN'}\n",
      "Success: {'message': 'Item added successfully'}\n",
      "{'camera_name': 'test', 'time': '2023-08-11 11:20:21', 'type_class': 2, 'name': 'car', 'action': 'NaN'}\n",
      "Success: {'message': 'Item added successfully'}\n",
      "{'camera_name': 'test', 'time': '2023-08-11 11:20:21', 'type_class': 2, 'name': 'car', 'action': 'NaN'}\n",
      "Success: {'message': 'Item added successfully'}\n",
      "{'camera_name': 'test', 'time': '2023-08-11 11:20:21', 'type_class': 2, 'name': 'car', 'action': 'NaN'}\n",
      "Success: {'message': 'Item added successfully'}\n",
      "{'camera_name': 'test', 'time': '2023-08-11 11:20:21', 'type_class': 2, 'name': 'car', 'action': 'NaN'}\n",
      "Success: {'message': 'Item added successfully'}\n",
      "{'camera_name': 'test', 'time': '2023-08-11 11:20:21', 'type_class': 2, 'name': 'car', 'action': 'NaN'}\n",
      "Success: {'message': 'Item added successfully'}\n",
      "{'camera_name': 'test', 'time': '2023-08-11 11:20:21', 'type_class': 0, 'name': 'person', 'action': 'person detected'}\n",
      "Success: {'message': 'Item added successfully'}\n",
      "{'camera_name': 'test', 'time': '2023-08-11 11:20:21', 'type_class': 2, 'name': 'car', 'action': 'NaN'}\n",
      "Success: {'message': 'Item added successfully'}\n",
      "{'camera_name': 'test', 'time': '2023-08-11 11:20:21', 'type_class': 0, 'name': 'person', 'action': 'person detected'}\n",
      "Success: {'message': 'Item added successfully'}\n",
      "{'camera_name': 'test', 'time': '2023-08-11 11:20:21', 'type_class': 2, 'name': 'car', 'action': 'NaN'}\n",
      "Success: {'message': 'Item added successfully'}\n",
      "{'camera_name': 'test', 'time': '2023-08-11 11:20:21', 'type_class': 2, 'name': 'car', 'action': 'NaN'}\n",
      "Success: {'message': 'Item added successfully'}\n",
      "{'camera_name': 'test', 'time': '2023-08-11 11:20:21', 'type_class': 7, 'name': 'truck', 'action': 'NaN'}\n",
      "Success: {'message': 'Item added successfully'}\n",
      "{'camera_name': 'test', 'time': '2023-08-11 11:20:21', 'type_class': 2, 'name': 'car', 'action': 'NaN'}\n",
      "Success: {'message': 'Item added successfully'}\n",
      "{'camera_name': 'test', 'time': '2023-08-11 11:20:21', 'type_class': 2, 'name': 'car', 'action': 'NaN'}\n",
      "Success: {'message': 'Item added successfully'}\n",
      "{'camera_name': 'test', 'time': '2023-08-11 11:20:21', 'type_class': 2, 'name': 'car', 'action': 'NaN'}\n",
      "Success: {'message': 'Item added successfully'}\n",
      "{'camera_name': 'test', 'time': '2023-08-11 11:20:21', 'type_class': 2, 'name': 'car', 'action': 'NaN'}\n",
      "Success: {'message': 'Item added successfully'}\n",
      "{'camera_name': 'test', 'time': '2023-08-11 11:20:21', 'type_class': 2, 'name': 'car', 'action': 'NaN'}\n",
      "Success: {'message': 'Item added successfully'}\n",
      "{'camera_name': 'test', 'time': '2023-08-11 11:20:21', 'type_class': 2, 'name': 'car', 'action': 'NaN'}\n",
      "Success: {'message': 'Item added successfully'}\n",
      "{'camera_name': 'test', 'time': '2023-08-11 11:20:21', 'type_class': 2, 'name': 'car', 'action': 'NaN'}\n",
      "Success: {'message': 'Item added successfully'}\n",
      "{'camera_name': 'test', 'time': '2023-08-11 11:20:21', 'type_class': 0, 'name': 'person', 'action': 'person detected'}\n",
      "Success: {'message': 'Item added successfully'}\n",
      "{'camera_name': 'test', 'time': '2023-08-11 11:20:21', 'type_class': 2, 'name': 'car', 'action': 'NaN'}\n",
      "Success: {'message': 'Item added successfully'}\n",
      "Image 'data/Je1sunhwan_incheongrandpark_daytime.png' was last modified at: 2023-08-11 13:08:09\n",
      "Image 'data/WolgotIC_night.png' was last modified at: 2023-08-11 13:08:09\n",
      "Image 'data/EunhangIntersection_daytime.png' was last modified at: 2023-08-11 13:08:09\n",
      "Image 'data/SincheonIntersection_daytime.png' was last modified at: 2023-08-11 13:08:09\n",
      "Image 'data/WolgotIC_daytime.png' was last modified at: 2023-08-11 13:08:09\n",
      "Image 'data/Je1sunhwan_incheongrandpark_night.png' was last modified at: 2023-08-11 13:08:09\n"
     ]
    }
   ],
   "source": [
    "for checkpoint in checkpoints:\n",
    "    model = torch.hub.load('ultralytics/yolov5', checkpoint) # model selection\n",
    "    for image_file in image_files:\n",
    "        results = model(image_file) # image selection\n",
    "        #results.print()\n",
    "        #results.show()\n",
    "        \n",
    "        # drop word 'png'\n",
    "        exclude_word = [\"png\"]\n",
    "        image_path = image_file\n",
    "        image_file = [image_file for image_file in image_file.split('.') if image_file != exclude_word]\n",
    "        \n",
    "        # split camera name\n",
    "        camera_name = image_file[0]\n",
    "        camera_name = [camera_name.replace(\"\\\\\", \"/\")]\n",
    "        \n",
    "        # drop word 'data'\n",
    "        exclude_word = [\"data\"]\n",
    "        camera_name = camera_name[0]\n",
    "        camera_name_parts = camera_name.split('/')\n",
    "        filtered_parts = [part for part in camera_name_parts if part not in exclude_word]\n",
    "        final_camera_name = \"_\".join(filtered_parts)\n",
    "        \n",
    "        #drop word '_daytime'\n",
    "        final_camera_name = final_camera_name.replace(\"_daytime\", \"\")\n",
    "        #drop word '_night'\n",
    "        final_camera_name = final_camera_name.replace(\"_night\", \"\")\n",
    "        \n",
    "        object_coords = results.pandas().xyxy[0] # object detection results\n",
    "        object_coords.rename(columns={'class':'type_class'}, inplace=True)\n",
    "        \n",
    "        # add camera_name column into dataframe\n",
    "        object_coords['camera_name'] = final_camera_name\n",
    "        col1=object_coords.columns[-1]\n",
    "        col2=object_coords.columns[:-1]\n",
    "        col2=col2.insert(0, col1)\n",
    "        object_coords=object_coords[col2]\n",
    "        \n",
    "        # load img saved time\n",
    "        if os.path.exists(image_path):\n",
    "            timestamp = os.path.getmtime(image_path)\n",
    "            modified_time = datetime.datetime.fromtimestamp(timestamp)\n",
    "            modified_time = modified_time.strftime(\"%Y-%m-%d %H:%M:%S\")\n",
    "            print(f\"Image '{image_path}' was last modified at: {modified_time}\")\n",
    "            \n",
    "            object_coords['time'] = modified_time\n",
    "            col1=object_coords.columns[-1]\n",
    "            col2=object_coords.columns[:-1]\n",
    "            col2=col2.insert(1, col1)\n",
    "            object_coords=object_coords[col2]\n",
    "        else:\n",
    "            print(f\"Image '{image_path}' does not exist.\")\n",
    "            \n",
    "        # drop boundary box coordinates data\n",
    "        exclude_index = ['xmax', 'xmin', 'ymax', 'ymin', 'confidence']\n",
    "        for index in exclude_index:\n",
    "            #print('drop ' + index)\n",
    "            object_coords = object_coords.drop(columns=index)\n",
    "            \n",
    "        object_coords_detection = category(object_coords)\n",
    "        \n",
    "        for i in range(len(object_coords_detection)):\n",
    "            if object_coords_detection['action'][i] == 'person detected':\n",
    "                # save to json\n",
    "                save_file_path = 'results/xlsx'+image_file[0]+'_'+checkpoint+'person_results.json'\n",
    "                object_coords_detection.to_json(save_file_path, orient = 'records')\n",
    "                json_data = object_coords_detection.to_dict(orient = 'records')\n",
    "                \n",
    "                #PUT code for client\n",
    "                url = private.url\n",
    "                \n",
    "                for j in range(len(json_data)):\n",
    "                    print(json_data[j])\n",
    "                    response = requests.put(url, json=json_data[j])\n",
    "\n",
    "                    if response.status_code == 200:\n",
    "                        print(\"Success:\", response.json())\n",
    "                    else:\n",
    "                        print(\"Error:\", response.status_code, response.text)"
   ]
  },
  {
   "cell_type": "code",
   "execution_count": null,
   "metadata": {},
   "outputs": [],
   "source": []
  }
 ],
 "metadata": {
  "kernelspec": {
   "display_name": "Python 3",
   "language": "python",
   "name": "python3"
  },
  "language_info": {
   "codemirror_mode": {
    "name": "ipython",
    "version": 3
   },
   "file_extension": ".py",
   "mimetype": "text/x-python",
   "name": "python",
   "nbconvert_exporter": "python",
   "pygments_lexer": "ipython3",
   "version": "3.11.4"
  },
  "orig_nbformat": 4
 },
 "nbformat": 4,
 "nbformat_minor": 2
}
