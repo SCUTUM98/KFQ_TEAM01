{
 "cells": [
  {
   "cell_type": "code",
   "execution_count": null,
   "metadata": {},
   "outputs": [],
   "source": [
    "import torch\n",
    "import numpy as np\n",
    "import cv2\n",
    "import time\n",
    "import datetime\n",
    "import pandas as pd\n",
    "from PIL import Image\n",
    "from yolov5.models.experimental import attempt_load\n",
    "import warnings\n",
    "warnings.filterwarnings(action = 'ignore')\n",
    "\n",
    "from convert_data import collect_data, collect_coordinates\n",
    "from class_mapping import yolo_class_mapping, fire_class_mapping, animals_class_mapping, obstacle_class_mapping\n",
    "from detection import category\n",
    "from perform_object import perform_object\n",
    "from yolo_to_server import send_server"
   ]
  },
  {
   "cell_type": "markdown",
   "metadata": {},
   "source": [
    "### Version check"
   ]
  },
  {
   "cell_type": "code",
   "execution_count": null,
   "metadata": {},
   "outputs": [],
   "source": [
    "print('opencv version: ', cv2.__version__)"
   ]
  },
  {
   "cell_type": "markdown",
   "metadata": {},
   "source": [
    "### Set Trained Models & Camera setting"
   ]
  },
  {
   "cell_type": "code",
   "execution_count": null,
   "metadata": {},
   "outputs": [],
   "source": [
    "camera_name = 'KFQ StarValley'\n",
    "device = torch.device('cpu')\n",
    "\n",
    "# Load trained YOLOv5 model weights\n",
    "yolo_weights_path = '/Users/bongeungu/Desktop/kfq/KFQ_TEAM01/yolo/models/yolov5m.pt'\n",
    "fire_weights_path = '/Users/bongeungu/Desktop/kfq/KFQ_TEAM01/yolo/models/fire_smoke.pt'\n",
    "animals_weights_path = '/Users/bongeungu/Desktop/kfq/KFQ_TEAM01/yolo/models/animals.pt'\n",
    "obstacle_weights_path = '/Users/bongeungu/Desktop/kfq/KFQ_TEAM01/yolo/models/obstacle.pt'\n",
    "\n",
    "yolo_model = attempt_load(yolo_weights_path, device=device)\n",
    "fire_model = attempt_load(fire_weights_path, device=device)\n",
    "animals_model = attempt_load(animals_weights_path, device=device)\n",
    "obstacle_model = attempt_load(obstacle_weights_path, device=device)"
   ]
  },
  {
   "cell_type": "markdown",
   "metadata": {},
   "source": [
    "### Save coordinates for road boundary detection"
   ]
  },
  {
   "cell_type": "code",
   "execution_count": null,
   "metadata": {},
   "outputs": [],
   "source": [
    "# Initialize webcam\n",
    "cap = cv2.VideoCapture(0)\n",
    "\n",
    "columns = ['X1', 'Y1', 'X2', 'Y2', 'Class_Name']\n",
    "road_coordinates = pd.DataFrame(columns=columns)\n",
    "\n",
    "for i in range(200):\n",
    "    ret, frame = cap.read()\n",
    "    \n",
    "    image = Image.fromarray(frame)\n",
    "    image = image.resize((640,640))\n",
    "    image_tensor = torch.from_numpy(np.array(image)).float().permute(2, 0, 1) / 255.0\n",
    "    image_tensor = image_tensor.unsqueeze(0).to(device)\n",
    "    \n",
    "    results = perform_object(image_tensor, 0.65, yolo_model)\n",
    "    road_coordinates = collect_coordinates(results, frame, yolo_class_mapping, road_coordinates)\n",
    "    \n",
    "road_coordinates = road_coordinates.sort_values(by = ['X1', 'Y1'])\n",
    "print(road_coordinates)\n",
    "print(f'coodrinates count: {len(road_coordinates)}')"
   ]
  },
  {
   "cell_type": "markdown",
   "metadata": {},
   "source": [
    "### Object Detection using webcam"
   ]
  },
  {
   "cell_type": "code",
   "execution_count": null,
   "metadata": {},
   "outputs": [],
   "source": [
    "# Initialize webcam\n",
    "cap = cv2.VideoCapture(0)\n",
    "\n",
    "while True:\n",
    "    ret, frame = cap.read()  # Read frame from the webcam\n",
    "    captured_time = datetime.datetime.now().strftime(\"%Y-%m-%d %H:%M:%S\") # 상황 발생 시간 기록\n",
    "    print(captured_time)\n",
    "    \n",
    "    if cv2.waitKey(1) & 0xFF == ord('q'):  # Press 'q' to exit the loop\n",
    "        break\n",
    "    \n",
    "    # reset dataframe\n",
    "    columns = ['Time', 'Class_Name', 'Confidence', 'X1', 'Y1', 'X2', 'Y2', 'action_detection', 'action_category', 'event_type']\n",
    "    results_df = pd.DataFrame(columns=columns)\n",
    "    \n",
    "    # Preprocess the frame\n",
    "    image = Image.fromarray(frame)\n",
    "    image = image.resize((640, 640))  # Resize the image to the model's input size\n",
    "    image_tensor = torch.from_numpy(np.array(image)).float().permute(2, 0, 1) / 255.0\n",
    "    image_tensor = image_tensor.unsqueeze(0).to(device)\n",
    "\n",
    "    # Perform object detection\n",
    "    results = perform_object(image_tensor, 0.65, yolo_model)\n",
    "    results_df, road_coordinates = collect_data(results, frame, yolo_class_mapping, results_df, captured_time, road_coordinates)\n",
    "    #print(results_df)\n",
    "    \n",
    "    results = perform_object(image_tensor, 0.3, fire_model)\n",
    "    results_df, road_coordinates = collect_data(results, frame, fire_class_mapping, results_df, captured_time, road_coordinates)\n",
    "    \n",
    "    results = perform_object(image_tensor, 0.65, animals_model)\n",
    "    results_df, road_coordinates = collect_data(results, frame, animals_class_mapping, results_df, captured_time, road_coordinates)\n",
    "    \n",
    "    results = perform_object(image_tensor, 0.4, obstacle_model)\n",
    "    results_df, road_coordinates = collect_data(results, frame, obstacle_class_mapping, results_df, captured_time, road_coordinates)\n",
    "    \n",
    "    #print(road_coordinates)\n",
    "    \n",
    "    results_df = category(results_df, road_coordinates)\n",
    "\n",
    "    # Display the frame with bounding boxes and labels\n",
    "    cv2.imshow(camera_name, frame)\n",
    "    \n",
    "    send_server(results_df, camera_name, frame)\n",
    "    \n",
    "    time.sleep(2) # 2초 간격으로 사진 캡쳐(30 frames per 1 miniute)\n",
    "\n",
    "# Release the webcam and close windows\n",
    "cap.release()\n",
    "cv2.destroyAllWindows()"
   ]
  }
 ],
 "metadata": {
  "kernelspec": {
   "display_name": "Python 3",
   "language": "python",
   "name": "python3"
  },
  "language_info": {
   "codemirror_mode": {
    "name": "ipython",
    "version": 3
   },
   "file_extension": ".py",
   "mimetype": "text/x-python",
   "name": "python",
   "nbconvert_exporter": "python",
   "pygments_lexer": "ipython3",
   "version": "3.11.4"
  },
  "orig_nbformat": 4
 },
 "nbformat": 4,
 "nbformat_minor": 2
}
