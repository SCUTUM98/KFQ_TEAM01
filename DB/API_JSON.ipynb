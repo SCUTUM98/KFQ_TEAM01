{
 "cells": [
  {
   "cell_type": "markdown",
   "metadata": {},
   "source": [
    "### 성공"
   ]
  },
  {
   "cell_type": "code",
   "execution_count": null,
   "metadata": {},
   "outputs": [],
   "source": [
    "##JSON API URL 받아와서 dict 저장까지만!\n",
    "import requests\n",
    "\n",
    "# 실시간 API URL w/ endpoint if necessary\n",
    "api_url = 'https://9d5d-61-255-134-194.ngrok-free.app/'\n",
    "\n",
    "# API 요청 및 데이터 가져오기\n",
    "response = requests.get(api_url)\n",
    "data = response.json()\n",
    "\n",
    "# 데이터를 딕셔너리에 저장\n",
    "data_dict = data\n",
    "#여기서 추가로 append를 해야하나 아니면 실시간으로만..? 물어봐야함 \n",
    "\n",
    "# 저장한 데이터 딕셔너리 출력\n",
    "print(data_dict)\n",
    "#이 이후에 합치기 or 변환 등"
   ]
  },
  {
   "cell_type": "markdown",
   "metadata": {},
   "source": [
    "### 실패_json 받아와서 형태 변환하기"
   ]
  },
  {
   "cell_type": "code",
   "execution_count": 1,
   "metadata": {},
   "outputs": [
    {
     "name": "stdout",
     "output_type": "stream",
     "text": [
      "colorsArray:[{'colorName': 'yellow', 'hexValue': '#f01'}]\n",
      "colorsArray:[{'colorName': 'red', 'hexValue': '#f32'}]\n"
     ]
    }
   ],
   "source": [
    "#병합은 안됨..\n",
    "import os\n",
    "import json\n",
    "\n",
    "# JSON 파일들이 위치한 폴더 경로\n",
    "folder_path = 'C:/KFQ_BigData/FinalFinal/KFQ_TEAM01/json'\n",
    "\n",
    "# JSON 파일들을 저장할 리스트\n",
    "json_files = []\n",
    "\n",
    "# 폴더 내의 JSON 파일들을 리스트에 추가\n",
    "for filename in os.listdir(folder_path):\n",
    "    if filename.endswith('.json'):\n",
    "        json_files.append(os.path.join(folder_path, filename))\n",
    "\n",
    "# JSON 파일들을 읽어서 딕셔너리 항목을 합치고 결과를 저장할 리스트\n",
    "combined_items = []\n",
    "\n",
    "# JSON 파일을 순회하며 항목 합치기\n",
    "for json_file in json_files:\n",
    "    with open(json_file, 'r') as f:\n",
    "        data = json.load(f)\n",
    "        \n",
    "        for key, value in data.items():\n",
    "            combined_items.append(f'{key}:{value}')\n",
    "\n",
    "# 결과 출력\n",
    "for item in combined_items:\n",
    "    print(item)\n"
   ]
  },
  {
   "cell_type": "code",
   "execution_count": 2,
   "metadata": {},
   "outputs": [
    {
     "name": "stdout",
     "output_type": "stream",
     "text": [
      "{'colorsArray': [[{'colorName': 'yellow', 'hexValue': '#f01'}], [{'colorName': 'red', 'hexValue': '#f32'}]]}\n"
     ]
    }
   ],
   "source": [
    "#Key로 병합은 됐지만 리스트 안 딕셔너리끼리의 병합은 실패\n",
    "#딕셔너리: 리스트, 리스트, 딕셔너리\n",
    "import os\n",
    "import json\n",
    "\n",
    "# JSON 파일들이 위치한 폴더 경로\n",
    "folder_path = 'C:/KFQ_BigData/FinalFinal/KFQ_TEAM01/json'\n",
    "\n",
    "# JSON 파일들을 저장할 리스트\n",
    "json_files = []\n",
    "\n",
    "# 폴더 내의 JSON 파일들을 리스트에 추가\n",
    "for filename in os.listdir(folder_path):\n",
    "    if filename.endswith('.json'):\n",
    "        json_files.append(os.path.join(folder_path, filename))\n",
    "\n",
    "# 결과를 저장할 딕셔너리\n",
    "combined_dict = {}\n",
    "\n",
    "# JSON 파일을 순회하며 항목 합치기\n",
    "for json_file in json_files:\n",
    "    with open(json_file, 'r') as f:\n",
    "        data = json.load(f)\n",
    "        \n",
    "        for key, value in data.items():\n",
    "            if key in combined_dict:\n",
    "                combined_dict[key].append(value)\n",
    "            else:\n",
    "                combined_dict[key] = [value]\n",
    "\n",
    "# 결과 출력\n",
    "print(combined_dict)"
   ]
  }
 ],
 "metadata": {
  "kernelspec": {
   "display_name": "final",
   "language": "python",
   "name": "python3"
  },
  "language_info": {
   "codemirror_mode": {
    "name": "ipython",
    "version": 3
   },
   "file_extension": ".py",
   "mimetype": "text/x-python",
   "name": "python",
   "nbconvert_exporter": "python",
   "pygments_lexer": "ipython3",
   "version": "3.11.4"
  },
  "orig_nbformat": 4
 },
 "nbformat": 4,
 "nbformat_minor": 2
}
