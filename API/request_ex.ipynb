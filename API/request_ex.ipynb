{
 "cells": [
  {
   "cell_type": "code",
   "execution_count": 6,
   "metadata": {},
   "outputs": [
    {
     "name": "stdout",
     "output_type": "stream",
     "text": [
      "{'result': 0}\n"
     ]
    }
   ],
   "source": [
    "import requests\n",
    "import json\n",
    "\n",
    "# API 엔드포인트\n",
    "url = \"https://cd4d-61-255-134-194.ngrok-free.app/cctv/add_event\"\n",
    "\n",
    "# 사용자 정보\n",
    "cctv_data = {\n",
    "    \"cctv_id\":\"CCA9000030\",\n",
    "    \"event_time\":'2023-09-17 14:19',\n",
    "    \"event_type\":\"P01\",\n",
    "    \"event_item\":'people',\n",
    "    \"event_description\":\"NaN\"\n",
    "}\n",
    "\n",
    "# 데이터 구성\n",
    "data = {\n",
    "    'cctv_data': (None, json.dumps(cctv_data), 'application/json'),\n",
    "    'photo': ('tg.jpg', open('tg.jpg', 'rb'))\n",
    "}\n",
    "\n",
    "response = requests.post(url, files=data)\n",
    "\n",
    "print(response.json())"
   ]
  },
  {
   "cell_type": "code",
   "execution_count": null,
   "metadata": {},
   "outputs": [],
   "source": []
  }
 ],
 "metadata": {
  "kernelspec": {
   "display_name": "final",
   "language": "python",
   "name": "python3"
  },
  "language_info": {
   "codemirror_mode": {
    "name": "ipython",
    "version": 3
   },
   "file_extension": ".py",
   "mimetype": "text/x-python",
   "name": "python",
   "nbconvert_exporter": "python",
   "pygments_lexer": "ipython3",
   "version": "3.11.4"
  },
  "orig_nbformat": 4
 },
 "nbformat": 4,
 "nbformat_minor": 2
}
