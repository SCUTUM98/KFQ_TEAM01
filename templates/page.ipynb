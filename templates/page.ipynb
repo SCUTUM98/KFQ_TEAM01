{
 "cells": [
  {
   "cell_type": "code",
   "execution_count": 1,
   "metadata": {},
   "outputs": [],
   "source": [
    "import pandas as pd\n",
    "import folium\n",
    "\n",
    "# 엑셀 파일에서 데이터 읽기\n",
    "cctv_data = pd.read_excel('C:/workspace/Final_project/final_test/api_server/templates/cctvlist.xlsx')"
   ]
  },
  {
   "cell_type": "code",
   "execution_count": null,
   "metadata": {},
   "outputs": [],
   "source": [
    "# 초기 지도 중심 좌표 설정\n",
    "initial_lat = float(cctv_data['YPOINT'][0])\n",
    "initial_lon = float(cctv_data['XPOINT'][0])\n",
    "center = [initial_lat, initial_lon]\n",
    "\n",
    "# Folium 맵 생성\n",
    "m = folium.Map(location=center, zoom_start=12.5)\n",
    "\n",
    "# 마커 위치 리스트 생성\n",
    "loc = []\n",
    "for i in range(len(cctv_data['XPOINT'])):\n",
    "    lon = float(cctv_data['XPOINT'][i])\n",
    "    lat = float(cctv_data['YPOINT'][i])\n",
    "    loc.append([lat, lon])\n",
    "\n",
    "# 지도에 마커 찍기\n",
    "for i in range(len(loc)):\n",
    "    folium.Marker(loc[i], icon=folium.Icon(color='green', icon='fa-tree', prefix='fa')).add_to(m)\n",
    "\n",
    "# Folium 맵을 HTML 문자열로 변환\n",
    "maps = m._repr_html_()\n",
    "\n",
    "# HTML 예시 코드 생성\n",
    "html_code = f\"\"\"\n",
    "     <div id=\"map-container\">{maps}</div>\n",
    "\"\"\"\n",
    "\n",
    "# HTML 파일 저장\n",
    "with open('map.html', 'w') as f:\n",
    "    f.write(html_code)"
   ]
  }
 ],
 "metadata": {
  "kernelspec": {
   "display_name": "final",
   "language": "python",
   "name": "python3"
  },
  "language_info": {
   "codemirror_mode": {
    "name": "ipython",
    "version": 3
   },
   "file_extension": ".py",
   "mimetype": "text/x-python",
   "name": "python",
   "nbconvert_exporter": "python",
   "pygments_lexer": "ipython3",
   "version": "3.11.4"
  },
  "orig_nbformat": 4
 },
 "nbformat": 4,
 "nbformat_minor": 2
}
