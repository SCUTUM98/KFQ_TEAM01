{
 "cells": [
  {
   "cell_type": "code",
   "execution_count": 11,
   "metadata": {},
   "outputs": [
    {
     "name": "stdout",
     "output_type": "stream",
     "text": [
      "Success!! You're the BEST~~!! :))\n"
     ]
    }
   ],
   "source": [
    "#PUT code for client\n",
    "import requests\n",
    "\n",
    "url = 'https://e60e-61-255-134-194.ngrok-free.app/user/signup'  # FastAPI 서버의 URL로 변경해주세요\n",
    "\n",
    "data = {\n",
    "    \"cctv_id\":\"CCL1000030\",\n",
    "    \"event_time\":'2023-08-25 15:11',\n",
    "    \"event_type\":\"P01\",\n",
    "    \"event_item\":'yerin',\n",
    "    \"event_description\":\"NaN\"\n",
    "}\n",
    "\n",
    "headers = {\n",
    "    \"Content-Type\": \"application/json\"  # Specify the content type\n",
    "}\n",
    "\n",
    "response = requests.post(url, json=data, headers=headers)\n",
    "\n",
    "if response.status_code == 200:\n",
    "    print(\"Success!! You're the BEST~~!! :))\")\n",
    "else:\n",
    "    print(\"Error:\", response.status_code, response.text) "
   ]
  },
  {
   "cell_type": "code",
   "execution_count": 12,
   "metadata": {},
   "outputs": [
    {
     "name": "stdout",
     "output_type": "stream",
     "text": [
      "Success!! You're the BEST~~!! :))\n"
     ]
    }
   ],
   "source": [
    "#PUT code for client\n",
    "import requests\n",
    "\n",
    "url = 'https://e60e-61-255-134-194.ngrok-free.app/user/signup'  # FastAPI 서버의 URL로 변경해주세요\n",
    "\n",
    "data = {\n",
    "    \"cctv_id\":\"CCMG900020\",\n",
    "    \"event_time\":'2023-08-25 15:12',\n",
    "    \"event_type\":\"B01\",\n",
    "    \"event_item\":'dodo',\n",
    "    \"event_description\":\"NaN\"\n",
    "}\n",
    "\n",
    "headers = {\n",
    "    \"Content-Type\": \"application/json\"  # Specify the content type\n",
    "}\n",
    "\n",
    "response = requests.post(url, json=data, headers=headers)\n",
    "\n",
    "if response.status_code == 200:\n",
    "    print(\"Success!! You're the BEST~~!! :))\")\n",
    "else:\n",
    "    print(\"Error:\", response.status_code, response.text) "
   ]
  },
  {
   "cell_type": "code",
   "execution_count": 13,
   "metadata": {},
   "outputs": [
    {
     "name": "stdout",
     "output_type": "stream",
     "text": [
      "Success!! You're the BEST~~!! :))\n"
     ]
    }
   ],
   "source": [
    "#PUT code for client\n",
    "import requests\n",
    "\n",
    "url = 'https://e60e-61-255-134-194.ngrok-free.app/user/signup'  # FastAPI 서버의 URL로 변경해주세요\n",
    "\n",
    "data = {\n",
    "    \"cctv_id\":\"CCMG900030\",\n",
    "    \"event_time\":'2023-08-25 15:13',\n",
    "    \"event_type\":\"F01\",\n",
    "    \"event_item\":'HYOZZIN',\n",
    "    \"event_description\":\"NaN\"\n",
    "}\n",
    "\n",
    "headers = {\n",
    "    \"Content-Type\": \"application/json\"  # Specify the content type\n",
    "}\n",
    "\n",
    "response = requests.post(url, json=data, headers=headers)\n",
    "\n",
    "if response.status_code == 200:\n",
    "    print(\"Success!! You're the BEST~~!! :))\")\n",
    "else:\n",
    "    print(\"Error:\", response.status_code, response.text)"
   ]
  },
  {
   "cell_type": "code",
   "execution_count": 14,
   "metadata": {},
   "outputs": [
    {
     "name": "stdout",
     "output_type": "stream",
     "text": [
      "Success!! You're the BEST~~!! :))\n"
     ]
    }
   ],
   "source": [
    "#PUT code for client\n",
    "import requests\n",
    "\n",
    "url = 'https://e60e-61-255-134-194.ngrok-free.app/user/signup'  # FastAPI 서버의 URL로 변경해주세요\n",
    "\n",
    "data = {\n",
    "    \"cctv_id\":\"CCMG900010\",\n",
    "    \"event_time\":'2023-08-25 15:14',\n",
    "    \"event_type\":\"A01\",\n",
    "    \"event_item\":'animal',\n",
    "    \"event_description\":\"NaN\"\n",
    "}\n",
    "\n",
    "headers = {\n",
    "    \"Content-Type\": \"application/json\"  # Specify the content type\n",
    "}\n",
    "\n",
    "response = requests.post(url, json=data, headers=headers)\n",
    "\n",
    "if response.status_code == 200:\n",
    "    print(\"Success!! You're the BEST~~!! :))\")\n",
    "else:\n",
    "    print(\"Error:\", response.status_code, response.text)"
   ]
  },
  {
   "cell_type": "code",
   "execution_count": 15,
   "metadata": {},
   "outputs": [
    {
     "name": "stdout",
     "output_type": "stream",
     "text": [
      "Success!! You're the BEST~~!! :))\n"
     ]
    }
   ],
   "source": [
    "#PUT code for client\n",
    "import requests\n",
    "\n",
    "url = 'https://e60e-61-255-134-194.ngrok-free.app/user/signup'  # FastAPI 서버의 URL로 변경해주세요\n",
    "\n",
    "data = {\n",
    "    \"cctv_id\":\"CCL1000040\",\n",
    "    \"event_time\":'2023-08-25 15:15',\n",
    "    \"event_type\":\"A04\",\n",
    "    \"event_item\":'BON',\n",
    "    \"event_description\":\"NaN\"\n",
    "}\n",
    "\n",
    "headers = {\n",
    "    \"Content-Type\": \"application/json\"  # Specify the content type\n",
    "}\n",
    "\n",
    "response = requests.post(url, json=data, headers=headers)\n",
    "\n",
    "if response.status_code == 200:\n",
    "    print(\"Success!! You're the BEST~~!! :))\")\n",
    "else:\n",
    "    print(\"Error:\", response.status_code, response.text)"
   ]
  },
  {
   "cell_type": "code",
   "execution_count": null,
   "metadata": {},
   "outputs": [],
   "source": []
  }
 ],
 "metadata": {
  "kernelspec": {
   "display_name": "final",
   "language": "python",
   "name": "python3"
  },
  "language_info": {
   "codemirror_mode": {
    "name": "ipython",
    "version": 3
   },
   "file_extension": ".py",
   "mimetype": "text/x-python",
   "name": "python",
   "nbconvert_exporter": "python",
   "pygments_lexer": "ipython3",
   "version": "3.11.4"
  },
  "orig_nbformat": 4
 },
 "nbformat": 4,
 "nbformat_minor": 2
}
