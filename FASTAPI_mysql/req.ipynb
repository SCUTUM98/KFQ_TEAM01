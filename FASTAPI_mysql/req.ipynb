{
 "cells": [
  {
   "cell_type": "code",
   "execution_count": 1,
   "metadata": {},
   "outputs": [
    {
     "name": "stdout",
     "output_type": "stream",
     "text": [
      "Error: 422 {\"detail\":[{\"type\":\"missing\",\"loc\":[\"body\",\"user\"],\"msg\":\"Field required\",\"input\":null,\"url\":\"https://errors.pydantic.dev/2.1/v/missing\"},{\"type\":\"missing\",\"loc\":[\"body\",\"file\"],\"msg\":\"Field required\",\"input\":null,\"url\":\"https://errors.pydantic.dev/2.1/v/missing\"}]}\n"
     ]
    }
   ],
   "source": [
    "#PUT code for client\n",
    "import requests\n",
    "\n",
    "url = 'https://7da3-61-255-134-194.ngrok-free.app/user/signup'  # FastAPI 서버의 URL로 변경해주세요\n",
    "\n",
    "data = {\n",
    "    \"cctv_id\":\"CWAA900030\",\n",
    "    \"event_time\":'2023-08-24 10:15',\n",
    "    \"event_type\":\"CW03\",\n",
    "    \"event_item\":'yerin',\n",
    "    \"event_description\":\"NaN\"\n",
    "}\n",
    "\n",
    "headers = {\n",
    "    \"Content-Type\": \"application/json\"  # Specify the content type\n",
    "}\n",
    "\n",
    "response = requests.post(url, json=data, headers=headers)\n",
    "\n",
    "if response.status_code == 200:\n",
    "    print(\"Success!! You're the BEST~~!! :))\")\n",
    "else:\n",
    "    print(\"Error:\", response.status_code, response.text) "
   ]
  },
  {
   "cell_type": "code",
   "execution_count": 8,
   "metadata": {},
   "outputs": [
    {
     "name": "stdout",
     "output_type": "stream",
     "text": [
      "Success!! You're the BEST~~!! :))\n"
     ]
    }
   ],
   "source": [
    "#PUT code for client\n",
    "import requests\n",
    "\n",
    "url = 'https://d034-61-255-134-194.ngrok-free.app/user/signup'  # FastAPI 서버의 URL로 변경해주세요\n",
    "\n",
    "data = {\n",
    "    \"cctv_id\":\"CCD1000010\",\n",
    "    \"event_time\":'2023-08-22 14:02',\n",
    "    \"event_type\":\"CC01\",\n",
    "    \"event_item\":'animal',\n",
    "    \"event_description\":\"NaN\"\n",
    "}\n",
    "\n",
    "headers = {\n",
    "    \"Content-Type\": \"application/json\"  # Specify the content type\n",
    "}\n",
    "\n",
    "response = requests.post(url, json=data, headers=headers)\n",
    "\n",
    "if response.status_code == 200:\n",
    "    print(\"Success!! You're the BEST~~!! :))\")\n",
    "else:\n",
    "    print(\"Error:\", response.status_code, response.text) "
   ]
  },
  {
   "cell_type": "code",
   "execution_count": 9,
   "metadata": {},
   "outputs": [
    {
     "name": "stdout",
     "output_type": "stream",
     "text": [
      "Success!! You're the BEST~~!! :))\n"
     ]
    }
   ],
   "source": [
    "#PUT code for client\n",
    "import requests\n",
    "\n",
    "url = 'https://d034-61-255-134-194.ngrok-free.app/user/signup'  # FastAPI 서버의 URL로 변경해주세요\n",
    "\n",
    "data = {\n",
    "    \"cctv_id\":\"CCK1000060\",\n",
    "    \"event_time\":'2023-08-22 14:03',\n",
    "    \"event_type\":\"CC06\",\n",
    "    \"event_item\":'animal',\n",
    "    \"event_description\":\"NaN\"\n",
    "}\n",
    "\n",
    "headers = {\n",
    "    \"Content-Type\": \"application/json\"  # Specify the content type\n",
    "}\n",
    "\n",
    "response = requests.post(url, json=data, headers=headers)\n",
    "\n",
    "if response.status_code == 200:\n",
    "    print(\"Success!! You're the BEST~~!! :))\")\n",
    "else:\n",
    "    print(\"Error:\", response.status_code, response.text)"
   ]
  },
  {
   "cell_type": "code",
   "execution_count": 10,
   "metadata": {},
   "outputs": [
    {
     "name": "stdout",
     "output_type": "stream",
     "text": [
      "Success!! You're the BEST~~!! :))\n"
     ]
    }
   ],
   "source": [
    "#PUT code for client\n",
    "import requests\n",
    "\n",
    "url = 'https://d034-61-255-134-194.ngrok-free.app/user/signup'  # FastAPI 서버의 URL로 변경해주세요\n",
    "\n",
    "data = {\n",
    "    \"cctv_id\":\"CCK1000050\",\n",
    "    \"event_time\":'2023-08-22 14:04',\n",
    "    \"event_type\":\"CC05\",\n",
    "    \"event_item\":'animal',\n",
    "    \"event_description\":\"NaN\"\n",
    "}\n",
    "\n",
    "headers = {\n",
    "    \"Content-Type\": \"application/json\"  # Specify the content type\n",
    "}\n",
    "\n",
    "response = requests.post(url, json=data, headers=headers)\n",
    "\n",
    "if response.status_code == 200:\n",
    "    print(\"Success!! You're the BEST~~!! :))\")\n",
    "else:\n",
    "    print(\"Error:\", response.status_code, response.text)"
   ]
  },
  {
   "cell_type": "code",
   "execution_count": 3,
   "metadata": {},
   "outputs": [
    {
     "name": "stdout",
     "output_type": "stream",
     "text": [
      "Error: 422 {\"detail\":[{\"type\":\"missing\",\"loc\":[\"body\",\"user\"],\"msg\":\"Field required\",\"input\":null,\"url\":\"https://errors.pydantic.dev/2.1/v/missing\"},{\"type\":\"missing\",\"loc\":[\"body\",\"file\"],\"msg\":\"Field required\",\"input\":null,\"url\":\"https://errors.pydantic.dev/2.1/v/missing\"}]}\n"
     ]
    }
   ],
   "source": [
    "#PUT code for client\n",
    "import requests\n",
    "\n",
    "url = 'https://7da3-61-255-134-194.ngrok-free.app/user/signup'  # FastAPI 서버의 URL로 변경해주세요\n",
    "\n",
    "data = {\n",
    "    \"cctv_id\":\"CWAA900030\",\n",
    "    \"event_time\":'2023-08-24 10:15',\n",
    "    \"event_type\":\"CW03\",\n",
    "    \"event_item\":'yerin',\n",
    "    \"event_description\":\"NaN\"\n",
    "}\n",
    "\n",
    "headers = {\n",
    "    \"Content-Type\": \"application/json\"  # Specify the content type\n",
    "}\n",
    "\n",
    "response = requests.post(url, json=data, headers=headers)\n",
    "\n",
    "if response.status_code == 200:\n",
    "    print(\"Success!! You're the BEST~~!! :))\")\n",
    "else:\n",
    "    print(\"Error:\", response.status_code, response.text)"
   ]
  },
  {
   "cell_type": "code",
   "execution_count": null,
   "metadata": {},
   "outputs": [],
   "source": []
  }
 ],
 "metadata": {
  "kernelspec": {
   "display_name": "final",
   "language": "python",
   "name": "python3"
  },
  "language_info": {
   "codemirror_mode": {
    "name": "ipython",
    "version": 3
   },
   "file_extension": ".py",
   "mimetype": "text/x-python",
   "name": "python",
   "nbconvert_exporter": "python",
   "pygments_lexer": "ipython3",
   "version": "3.11.4"
  },
  "orig_nbformat": 4
 },
 "nbformat": 4,
 "nbformat_minor": 2
}
