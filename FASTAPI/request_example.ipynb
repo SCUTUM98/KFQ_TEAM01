{
 "cells": [
  {
   "cell_type": "code",
   "execution_count": 19,
   "metadata": {},
   "outputs": [
    {
     "name": "stdout",
     "output_type": "stream",
     "text": [
      "Success: {'message': 'Item added successfully'}\n"
     ]
    }
   ],
   "source": [
    "#PUT code for client\n",
    "import requests\n",
    "\n",
    "url = \"https://eb3b-61-255-134-194.ngrok-free.app/items\"  # FastAPI 서버의 URL로 변경해주세요\n",
    "\n",
    "data = {\n",
    "    \"camera_name\": \"camera1\",\n",
    "    \"time\": \"2023-08-11T12:34:56\",\n",
    "    \"xmin\": 90.0,\n",
    "    \"ymin\": 50.0,\n",
    "    \"xmax\": 600.0,\n",
    "    \"ymax\": 150.0,\n",
    "    \"confidence\": 0.95,\n",
    "    \"mclass\": 1,\n",
    "    \"name\": \"object\"\n",
    "    \"action\" :\"person detected\"\n",
    "}\n",
    "\n",
    "response = requests.put(url, json=data)\n",
    "\n",
    "if response.status_code == 200:\n",
    "    print(\"Success:\", response.json())\n",
    "else:\n",
    "    print(\"Error:\", response.status_code, response.text)\n"
   ]
  },
  {
   "cell_type": "code",
   "execution_count": 18,
   "metadata": {},
   "outputs": [
    {
     "name": "stdout",
     "output_type": "stream",
     "text": [
      "{'1': {'camera_name': 'camera1', 'time': '2023-08-11T12:34:56', 'xmin': 100.0, 'ymin': 50.0, 'xmax': 200.0, 'ymax': 150.0, 'confidence': 0.95, 'mclass': 1, 'name': 'object'}, '2': {'camera_name': 'camera1', 'time': '2023-08-11T12:34:56', 'xmin': 90.0, 'ymin': 50.0, 'xmax': 200.0, 'ymax': 150.0, 'confidence': 0.95, 'mclass': 1, 'name': 'object'}}\n"
     ]
    }
   ],
   "source": [
    "#GET code for USER(or DB)\n",
    "\n",
    "##JSON API URL 받아와서 dict 저장까지만!\n",
    "import requests\n",
    "\n",
    "# 실시간 API URL w/ endpoint if necessary\n",
    "api_url = 'https://eb3b-61-255-134-194.ngrok-free.app/items'\n",
    "\n",
    "# API 요청 및 데이터 가져오기\n",
    "response = requests.get(api_url)\n",
    "data = response.json()\n",
    "\n",
    "# 데이터를 딕셔너리에 저장\n",
    "data_dict = data\n",
    "#여기서 추가로 append를 해야하나 아니면 실시간으로만..? 물어봐야함 \n",
    "\n",
    "# 저장한 데이터 딕셔너리 출력\n",
    "print(data_dict)"
   ]
  }
 ],
 "metadata": {
  "kernelspec": {
   "display_name": "final",
   "language": "python",
   "name": "python3"
  },
  "language_info": {
   "codemirror_mode": {
    "name": "ipython",
    "version": 3
   },
   "file_extension": ".py",
   "mimetype": "text/x-python",
   "name": "python",
   "nbconvert_exporter": "python",
   "pygments_lexer": "ipython3",
   "version": "3.11.4"
  },
  "orig_nbformat": 4
 },
 "nbformat": 4,
 "nbformat_minor": 2
}
