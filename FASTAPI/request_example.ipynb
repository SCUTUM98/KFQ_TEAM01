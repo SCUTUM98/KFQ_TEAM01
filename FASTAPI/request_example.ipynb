{
 "cells": [
  {
   "cell_type": "code",
   "execution_count": null,
   "metadata": {},
   "outputs": [],
   "source": [
    "# EX1\n",
    "import json, requests\n",
    "#ngrok URL change\n",
    "url = f\"https://3ae9-61-255-134-194.ngrok-free.app/receive_data\"\n",
    "\n",
    "data = {\n",
    "        \"name\": 4,\n",
    "        \"description\": 4,\n",
    "        \"price\": 0,\n",
    "        \"tax\": 0\n",
    "    }\n",
    "\n",
    "res = requests.put(url, data= json.dumps(data))\n",
    "print(res)\n",
    "info = res.text\n",
    "parse = json.loads(info)\n",
    "print(parse)"
   ]
  },
  {
   "cell_type": "code",
   "execution_count": 1,
   "metadata": {},
   "outputs": [
    {
     "name": "stdout",
     "output_type": "stream",
     "text": [
      "fail\n"
     ]
    }
   ],
   "source": [
    "# EX2\n",
    "import json, requests\n",
    "import glob\n",
    "\n",
    "url = f\"https://9804-61-255-134-194.ngrok-free.app/\"\n",
    "\n",
    "# API서버로 받아와야 하는 데이터 형태\n",
    "params = {\"camera_name\":\"DaeyaIntersection\",\n",
    "           \"time\":\"2023-08-07 10:32:20.982046\",\n",
    "           \"xmin\":105.61141967773438,\n",
    "           \"ymin\":350.4307861328125,\n",
    "           \"xmax\":142.32504272460938,\n",
    "           \"ymax\":377.0431518554688,\n",
    "           \"confidence\":0.8104487657546997,\n",
    "           \"mclass\":2,\n",
    "           \"name\":\"car\"}\n",
    "\n",
    "res = requests.get(url,params = params)\n",
    "if res.status_code == 200:\n",
    "    print(json.loads(res.text))\n",
    "else:\n",
    "    print('fail')\n",
    "    \n",
    "# info = res.text\n",
    "# parse = json.loads(info)\n",
    "# print(parse)"
   ]
  },
  {
   "cell_type": "code",
   "execution_count": null,
   "metadata": {},
   "outputs": [],
   "source": []
  }
 ],
 "metadata": {
  "kernelspec": {
   "display_name": "final",
   "language": "python",
   "name": "python3"
  },
  "language_info": {
   "codemirror_mode": {
    "name": "ipython",
    "version": 3
   },
   "file_extension": ".py",
   "mimetype": "text/x-python",
   "name": "python",
   "nbconvert_exporter": "python",
   "pygments_lexer": "ipython3",
   "version": "3.11.4"
  },
  "orig_nbformat": 4
 },
 "nbformat": 4,
 "nbformat_minor": 2
}
