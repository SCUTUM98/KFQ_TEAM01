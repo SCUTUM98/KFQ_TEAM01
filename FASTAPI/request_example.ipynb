{
 "cells": [
  {
   "cell_type": "code",
   "execution_count": null,
   "metadata": {},
   "outputs": [],
   "source": [
    "import json, requests\n",
    "\n",
    "url = f\"https://3ae9-61-255-134-194.ngrok-free.app/receive_data\"\n",
    "\n",
    "data = {\n",
    "        \"name\": 4,\n",
    "        \"description\": 4,\n",
    "        \"price\": 0,\n",
    "        \"tax\": 0\n",
    "    }\n",
    "\n",
    "res = requests.put(url, data= json.dumps(data))\n",
    "print(res)\n",
    "info = res.text\n",
    "parse = json.loads(info)\n",
    "print(parse)"
   ]
  }
 ],
 "metadata": {
  "language_info": {
   "name": "python"
  },
  "orig_nbformat": 4
 },
 "nbformat": 4,
 "nbformat_minor": 2
}
